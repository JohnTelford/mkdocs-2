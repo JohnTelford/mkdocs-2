{
 "cells": [
  {
   "cell_type": "markdown",
   "metadata": {},
   "source": [
    "# Building This WebSite\n",
    "\n",
    "- [VScode](https://code.visualstudio.com/) is the command and control center used to build this website\n",
    "\n",
    "- [VScode Jupyter Extension](pypi.org/project/jupyterlab) are used to create a [Python](https://www.python.org/) Notebook development environment\n",
    "  \n",
    "- [MkDocs Material](https://squidfunk.github.io/mkdocs-material/) is used to build and maintain this [Static Website](https://www.cloudflare.com/learning/performance/static-site-generator/) \n",
    "\n",
    "- [Cloudflare](https://www.cloudflare.com) is uses to deploy this website\n",
    "\n",
    "- VScode Shell\n",
    "  \n",
    "        Scan Docs docs/md files for links -> links/url.txt\n",
    "                cd docs\n",
    "                rg '\\[(.*?)\\]\\((.*?)\\)' *.md | grep -o \"\\!|\\[.*\\]\\(.*\\)\" '{ print $1 }' | cat > ../links/url.txt\n"
   ]
  },
  {
   "cell_type": "code",
   "execution_count": null,
   "metadata": {},
   "outputs": [],
   "source": [
    "%%bash\n",
    "pwd\n",
    "\n",
    "cd ../docs\n",
    "\n",
    "# this works\n",
    "# touch ../links/vvv\n",
    "# rg  '!|\\[(.*?)\\]\\((.*?)\\)' *.md  | cat> ../links/vvv\n",
    "\n",
    "cd ../links\n",
    "\n",
    "grep '\\!|\\[.*\\]\\(.*\\) { print {1} }' zzz\n",
    "\n",
    "\n",
    "\n",
    "\n",
    "\n",
    "\n"
   ]
  },
  {
   "cell_type": "code",
   "execution_count": 15,
   "metadata": {},
   "outputs": [],
   "source": [
    "# Create the links/url_list.txt file using the links/url.txt file\n",
    "\n",
    "from pathlib import Path\n",
    "import os\n",
    "import sys\n",
    "import re\n",
    "\n",
    "original_stdout = sys.stdout\n",
    "\n",
    "# print(\"\\npyrng.ipynb links\\n\")\n",
    "\n",
    "link_regex = re.compile(r\"(\\[.*?\\])(\\(.*?\\))\")\n",
    "\n",
    "dfw = open(\"url_list.txt\", \"w\")\n",
    "sys.stdout = dfw\n",
    "\n",
    "with open (\"url.txt\") as file:\n",
    "    dfr = file.read()\n",
    "    matches = re.findall(link_regex, dfr)\n",
    "    for match in matches:\n",
    "        print(f'{match[0]}{match[1]}')\n"
   ]
  },
  {
   "cell_type": "code",
   "execution_count": 12,
   "metadata": {},
   "outputs": [],
   "source": [
    "# append image urls -> url_list.txt\n",
    "\n",
    "from pathlib import Path\n",
    "import os\n",
    "import re\n",
    "\n",
    "image_link_regex = re.compile(r\"!(\\[.*?\\])(\\(.*?\\))\")\n",
    "\n",
    "dfw = open(\"url_list.txt\", \"a\")\n",
    "\n",
    "with open (\"url.txt\") as file:\n",
    "    df = file.read()\n",
    "    matches = re.finditer(image_link_regex, df)\n",
    "    for match in matches:\n",
    "        print(f'{match[0]}{match[1]}')\n"
   ]
  },
  {
   "cell_type": "code",
   "execution_count": 22,
   "metadata": {},
   "outputs": [
    {
     "name": "stderr",
     "output_type": "stream",
     "text": [
      "bash: line 7: unexpected EOF while looking for matching ``'\n",
      "bash: line 18: syntax error: unexpected end of file\n"
     ]
    },
    {
     "ename": "CalledProcessError",
     "evalue": "Command 'b\"# sort stuff\\n\\n# sort -d -u -o sort_url_list url_list.txt\\n# sort -d -u -o sort_url_list_d_u_o url_list.txt\\n\\n#sort -d  sort_url_list_d url_list.txt\\nSort  in dictionary `phone directory' order: ignore all characters except\\nletters, digits and blanks when sorting.\\nunexpected EOF\\n\\nsort -u sort_url_list_u url_list.txt\\nFor the default case or the -m option, only output the first of\\na sequence of lines that compare equal.  For  the  -c  option,\\ncheck that no pair of consecutive lines compares equal.\\n\\n# uniq -o url_list.txt sort_url_list\\nWrite output to output-file instead of to standard output\\n\"' returned non-zero exit status 2.",
     "output_type": "error",
     "traceback": [
      "\u001b[0;31m---------------------------------------------------------------------------\u001b[0m",
      "\u001b[0;31mCalledProcessError\u001b[0m                        Traceback (most recent call last)",
      "Cell \u001b[0;32mIn [22], line 1\u001b[0m\n\u001b[0;32m----> 1\u001b[0m get_ipython()\u001b[39m.\u001b[39;49mrun_cell_magic(\u001b[39m'\u001b[39;49m\u001b[39mbash\u001b[39;49m\u001b[39m'\u001b[39;49m, \u001b[39m'\u001b[39;49m\u001b[39m'\u001b[39;49m, \u001b[39m\"\u001b[39;49m\u001b[39m# sort stuff\u001b[39;49m\u001b[39m\\n\u001b[39;49;00m\u001b[39m\\n\u001b[39;49;00m\u001b[39m# sort -d -u -o sort_url_list url_list.txt\u001b[39;49m\u001b[39m\\n\u001b[39;49;00m\u001b[39m# sort -d -u -o sort_url_list_d_u_o url_list.txt\u001b[39;49m\u001b[39m\\n\u001b[39;49;00m\u001b[39m\\n\u001b[39;49;00m\u001b[39m#sort -d  sort_url_list_d url_list.txt\u001b[39;49m\u001b[39m\\n\u001b[39;49;00m\u001b[39mSort  in dictionary `phone directory\u001b[39;49m\u001b[39m'\u001b[39;49m\u001b[39m order: ignore all characters except\u001b[39;49m\u001b[39m\\n\u001b[39;49;00m\u001b[39mletters, digits and blanks when sorting.\u001b[39;49m\u001b[39m\\n\u001b[39;49;00m\u001b[39munexpected EOF\u001b[39;49m\u001b[39m\\n\u001b[39;49;00m\u001b[39m\\n\u001b[39;49;00m\u001b[39msort -u sort_url_list_u url_list.txt\u001b[39;49m\u001b[39m\\n\u001b[39;49;00m\u001b[39mFor the default case or the -m option, only output the first of\u001b[39;49m\u001b[39m\\n\u001b[39;49;00m\u001b[39ma sequence of lines that compare equal.  For  the  -c  option,\u001b[39;49m\u001b[39m\\n\u001b[39;49;00m\u001b[39mcheck that no pair of consecutive lines compares equal.\u001b[39;49m\u001b[39m\\n\u001b[39;49;00m\u001b[39m\\n\u001b[39;49;00m\u001b[39m# uniq -o url_list.txt sort_url_list\u001b[39;49m\u001b[39m\\n\u001b[39;49;00m\u001b[39mWrite output to output-file instead of to standard output\u001b[39;49m\u001b[39m\\n\u001b[39;49;00m\u001b[39m\"\u001b[39;49m)\n",
      "File \u001b[0;32m~/Library/Python/3.10/lib/python/site-packages/IPython/core/interactiveshell.py:2362\u001b[0m, in \u001b[0;36mInteractiveShell.run_cell_magic\u001b[0;34m(self, magic_name, line, cell)\u001b[0m\n\u001b[1;32m   2360\u001b[0m \u001b[39mwith\u001b[39;00m \u001b[39mself\u001b[39m\u001b[39m.\u001b[39mbuiltin_trap:\n\u001b[1;32m   2361\u001b[0m     args \u001b[39m=\u001b[39m (magic_arg_s, cell)\n\u001b[0;32m-> 2362\u001b[0m     result \u001b[39m=\u001b[39m fn(\u001b[39m*\u001b[39;49margs, \u001b[39m*\u001b[39;49m\u001b[39m*\u001b[39;49mkwargs)\n\u001b[1;32m   2363\u001b[0m \u001b[39mreturn\u001b[39;00m result\n",
      "File \u001b[0;32m~/Library/Python/3.10/lib/python/site-packages/IPython/core/magics/script.py:153\u001b[0m, in \u001b[0;36mScriptMagics._make_script_magic.<locals>.named_script_magic\u001b[0;34m(line, cell)\u001b[0m\n\u001b[1;32m    151\u001b[0m \u001b[39melse\u001b[39;00m:\n\u001b[1;32m    152\u001b[0m     line \u001b[39m=\u001b[39m script\n\u001b[0;32m--> 153\u001b[0m \u001b[39mreturn\u001b[39;00m \u001b[39mself\u001b[39;49m\u001b[39m.\u001b[39;49mshebang(line, cell)\n",
      "File \u001b[0;32m~/Library/Python/3.10/lib/python/site-packages/IPython/core/magics/script.py:305\u001b[0m, in \u001b[0;36mScriptMagics.shebang\u001b[0;34m(self, line, cell)\u001b[0m\n\u001b[1;32m    300\u001b[0m \u001b[39mif\u001b[39;00m args\u001b[39m.\u001b[39mraise_error \u001b[39mand\u001b[39;00m p\u001b[39m.\u001b[39mreturncode \u001b[39m!=\u001b[39m \u001b[39m0\u001b[39m:\n\u001b[1;32m    301\u001b[0m     \u001b[39m# If we get here and p.returncode is still None, we must have\u001b[39;00m\n\u001b[1;32m    302\u001b[0m     \u001b[39m# killed it but not yet seen its return code. We don't wait for it,\u001b[39;00m\n\u001b[1;32m    303\u001b[0m     \u001b[39m# in case it's stuck in uninterruptible sleep. -9 = SIGKILL\u001b[39;00m\n\u001b[1;32m    304\u001b[0m     rc \u001b[39m=\u001b[39m p\u001b[39m.\u001b[39mreturncode \u001b[39mor\u001b[39;00m \u001b[39m-\u001b[39m\u001b[39m9\u001b[39m\n\u001b[0;32m--> 305\u001b[0m     \u001b[39mraise\u001b[39;00m CalledProcessError(rc, cell)\n",
      "\u001b[0;31mCalledProcessError\u001b[0m: Command 'b\"# sort stuff\\n\\n# sort -d -u -o sort_url_list url_list.txt\\n# sort -d -u -o sort_url_list_d_u_o url_list.txt\\n\\n#sort -d  sort_url_list_d url_list.txt\\nSort  in dictionary `phone directory' order: ignore all characters except\\nletters, digits and blanks when sorting.\\nunexpected EOF\\n\\nsort -u sort_url_list_u url_list.txt\\nFor the default case or the -m option, only output the first of\\na sequence of lines that compare equal.  For  the  -c  option,\\ncheck that no pair of consecutive lines compares equal.\\n\\n# uniq -o url_list.txt sort_url_list\\nWrite output to output-file instead of to standard output\\n\"' returned non-zero exit status 2."
     ]
    }
   ],
   "source": [
    "%%bash\n",
    "# sort stuff\n",
    "\n",
    "# sort -d -u -o sort_url_list url_list.txt\n",
    "# sort -d -u -o sort_url_list_d_u_o url_list.txt\n",
    "\n",
    "#sort -d  sort_url_list_d url_list.txt\n",
    "Sort  in dictionary `phone directory' order: ignore all characters except\n",
    "letters, digits and blanks when sorting.\n",
    "unexpected EOF\n",
    "\n",
    "sort -u sort_url_list_u url_list.txt\n",
    "For the default case or the -m option, only output the first of\n",
    "a sequence of lines that compare equal.  For  the  -c  option,\n",
    "check that no pair of consecutive lines compares equal.\n",
    "\n",
    "# uniq -o url_list.txt sort_url_list\n",
    "Write output to output-file instead of to standard output"
   ]
  }
 ],
 "metadata": {
  "kernelspec": {
   "display_name": "Python 3.10.7 64-bit",
   "language": "python",
   "name": "python3"
  },
  "language_info": {
   "codemirror_mode": {
    "name": "ipython",
    "version": 3
   },
   "file_extension": ".py",
   "mimetype": "text/x-python",
   "name": "python",
   "nbconvert_exporter": "python",
   "pygments_lexer": "ipython3",
   "version": "3.10.7"
  },
  "orig_nbformat": 4,
  "vscode": {
   "interpreter": {
    "hash": "949777d72b0d2535278d3dc13498b2535136f6dfe0678499012e853ee9abcab1"
   }
  }
 },
 "nbformat": 4,
 "nbformat_minor": 2
}
