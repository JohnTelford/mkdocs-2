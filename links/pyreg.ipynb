{
 "cells": [
  {
   "cell_type": "markdown",
   "metadata": {
    "tags": [
     "Site Notes"
    ]
   },
   "source": [
    "###  SiteSynopsis\n",
    "\n",
    "The purpose of this `ipynb` file is to generate a list of links file\n",
    "\n",
    "- The `docs` directory is scanned for Markdown `*.md` files containing links.  The links are added to the `raw_links.txt` file\n",
    "\n",
    "#### Notes\n",
    "\n",
    "- [VScode](https://code.visualstudio.com/) is the command and control center used to build this website\n",
    "\n",
    "- [VScode Jupyter Extension](pypi.org/project/jupyterlab) are used to create a [Python](https://www.python.org/) Notebook development environment\n",
    "  \n",
    "- [MkDocs Material](https://squidfunk.github.io/mkdocs-material/) is used to build and maintain this [Static Website](https://www.cloudflare.com/learning/performance/static-site-generator/) \n",
    "\n",
    "- [Cloudflare](https://www.cloudflare.com) is uses to deploy this website\n",
    "\n"
   ]
  },
  {
   "cell_type": "markdown",
   "metadata": {},
   "source": [
    "### Scan `docs` directory `*.md` files for links "
   ]
  },
  {
   "cell_type": "code",
   "execution_count": 35,
   "metadata": {},
   "outputs": [],
   "source": [
    "from pathlib import Path\n",
    "import sys\n",
    "import os\n",
    "import re\n",
    "\n",
    "cwd = os.getcwd()\n",
    "print(f'cwd is ', cwd)\n",
    "\n",
    "dfw = open(\"url.txt\", \"w\")\n",
    "sys.stdout = dfw\n",
    "\n",
    "for file in os.listdir('../docs'):\n",
    "    if file.endswith(\".md\"):\n",
    "        print(file)\n",
    "\n",
    "# image_link_regex = re.compile(r\"!(\\[.*?\\])(\\(.*?\\))\")\n",
    "\n",
    "# dfl = open(\"url_list.txt\", \"a\")\n",
    "# sys.stdout = dfl\n",
    "\n",
    "# with open (\"url.txt\") as file:\n",
    "#     df = file.read()\n",
    "#     matches = re.finditer(image_link_regex, df)\n",
    "#     for match in matches:\n",
    "#         print(f'match')\n",
    "\n",
    "#       print(f'{match[0]}{match[1]}')\n"
   ]
  },
  {
   "cell_type": "markdown",
   "metadata": {},
   "source": [
    "### Live in Match\n",
    "Create the `links/url_list.txt` file using the `links/url.txt` file"
   ]
  },
  {
   "cell_type": "code",
   "execution_count": 63,
   "metadata": {},
   "outputs": [],
   "source": [
    "import sys\n",
    "import os\n",
    "import re\n",
    "\n",
    "image_link_regex = re.compile(r\"!(\\[.*?\\])(\\(.*?\\))\")\n",
    "\n",
    "dfl = open(\"url_list.txt\", \"w\")\n",
    "sys.stdout = dfl\n",
    "\n",
    "# url_line = open(\"url.txt\")\n",
    "\n",
    "\n",
    "with open (\"url.txt\") as file:\n",
    "    df = file.read()\n",
    "    matches = re.finditer(image_link_regex, df)\n",
    "    for match in matches:\n",
    "        print(f'{match[0]}')\n"
   ]
  },
  {
   "cell_type": "code",
   "execution_count": 45,
   "metadata": {},
   "outputs": [],
   "source": [
    "# append image urls -> url_list.txt\n",
    "\n",
    "from pathlib import Path\n",
    "import os\n",
    "import re\n",
    "\n",
    "image_link_regex = re.compile(r\"!(\\[.*?\\])(\\(.*?\\))\")\n",
    "\n",
    "dfw = open(\"url_list.txt\", \"w\")\n",
    "sys.stdout = dfw\n",
    "\n",
    "url = open(\"url.txt\", 'r')\n",
    "\n",
    "for\n",
    "\n",
    "with open (\"url.txt\") as file:\n",
    "    df = file.read()\n",
    "    matches = re.finditer(image_link_regex, df)\n",
    "    for match in matches:\n",
    "        print(f'{match[0]}{match[1]}')\n"
   ]
  },
  {
   "cell_type": "code",
   "execution_count": 6,
   "metadata": {},
   "outputs": [],
   "source": [
    "# Create the links/url_list.txt file using the links/url.txt file\n",
    "\n",
    "from pathlib import Path\n",
    "import sys\n",
    "import os\n",
    "import re\n",
    "\n",
    "original_stdout = sys.stdout\n",
    "\n",
    "# print(\"\\npyrng.ipynb links\\n\")\n",
    "\n",
    "link_regex = re.compile(r\"(\\[.*?\\])(\\(.*?\\))\")\n",
    "\n",
    "dfw = open(\"url_list.txt\", \"w\")\n",
    "sys.stdout = dfw\n",
    "\n",
    "with open (\"url.txt\") as file:\n",
    "    dfr = file.read()\n",
    "    matches = re.findall(link_regex, dfr)\n",
    "    for match in matches:\n",
    "        print(f'{match[0]}{match[1]}')\n"
   ]
  },
  {
   "cell_type": "code",
   "execution_count": null,
   "metadata": {},
   "outputs": [],
   "source": [
    "%%bash\n",
    "# sort stuff\n",
    "\n",
    "# sort -d -u -o sort_url_list url_list.txt\n",
    "# sort -d -u -o sort_url_list_d_u_o url_list.txt\n",
    "\n",
    "# #sort -d  sort_url_list_d url_list.txt\n",
    "# Sort  in dictionary `phone directory' order: ignore all characters except\n",
    "# letters, digits and blanks when sorting.\n",
    "# unexpected EOF\n",
    "\n",
    "# sort -u sort_url_list_u url_list.txt\n",
    "# For the default case or the -m option, only output the first of\n",
    "# a sequence of lines that compare equal.  For  the  -c  option,\n",
    "# check that no pair of consecutive lines compares equal.\n",
    "\n",
    "# # uniq -o url_list.txt sort_url_list\n",
    "# Write output to output-file instead of to standard output"
   ]
  },
  {
   "cell_type": "code",
   "execution_count": 5,
   "metadata": {
    "tags": [
     "bash testing"
    ]
   },
   "outputs": [
    {
     "name": "stdout",
     "output_type": "stream",
     "text": [
      "/Volumes/Dev/mkdocs-2/links\n"
     ]
    }
   ],
   "source": [
    "%%bash\n",
    "# Bash Testing\n",
    "\n",
    "\n",
    "# cd ../docs\n",
    "# this works\n",
    "# touch ../links/vvv\n",
    "# rg  '!|\\[(.*?)\\]\\((.*?)\\)' *.md  | cat> ../links/vvv\n",
    "\n",
    "# cd ../links\n",
    "\n",
    "# grep '\\!|\\[.*\\]\\(.*\\) { print {1} }' zzz\n",
    "\n"
   ]
  }
 ],
 "metadata": {
  "kernelspec": {
   "display_name": "Python 3.10.7 64-bit",
   "language": "python",
   "name": "python3"
  },
  "language_info": {
   "codemirror_mode": {
    "name": "ipython",
    "version": 3
   },
   "file_extension": ".py",
   "mimetype": "text/x-python",
   "name": "python",
   "nbconvert_exporter": "python",
   "pygments_lexer": "ipython3",
   "version": "3.10.7"
  },
  "orig_nbformat": 4,
  "vscode": {
   "interpreter": {
    "hash": "949777d72b0d2535278d3dc13498b2535136f6dfe0678499012e853ee9abcab1"
   }
  }
 },
 "nbformat": 4,
 "nbformat_minor": 2
}
