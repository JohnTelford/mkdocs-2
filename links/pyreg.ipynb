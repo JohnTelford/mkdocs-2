{
 "cells": [
  {
   "cell_type": "markdown",
   "metadata": {
    "notebookRunGroups": {
     "groupValue": "1"
    }
   },
   "source": [
    "### Site Synopsis"
   ]
  },
  {
   "cell_type": "markdown",
   "metadata": {
    "tags": [
     "Site Synopsis"
    ]
   },
   "source": [
    "\n",
    "This `ipynb` program scan the `docs` directory `*.md` files for `url` and `image` links, and adds them to the `url.txt` file\n",
    "\n",
    "- The `docs` directory is scanned for Markdown `*.md` files containing `url` links.  The links \n",
    "\n",
    "#### Notes\n",
    "\n",
    "- [VScode](https://code.visualstudio.com/) is the command and control center used to build this website\n",
    "\n",
    "- [VScode Jupyter Extension](pypi.org/project/jupyterlab) are used to create [Python](https://www.python.org/) Notebook development environment\n",
    "  \n",
    "- [MkDocs Material](https://squidfunk.github.io/mkdocs-material/) is used to build and maintain this [Static Website](https://www.cloudflare.com/learning/performance/static-site-generator/) \n",
    "\n",
    "- [Cloudflare](https://www.cloudflare.com) is uses to deploy this website\n",
    "\n"
   ]
  },
  {
   "cell_type": "markdown",
   "metadata": {},
   "source": [
    "### Scan `docs` directory `*.md` files for `url`  and `image` links"
   ]
  },
  {
   "cell_type": "code",
   "execution_count": 26,
   "metadata": {
    "tags": [
     "production"
    ]
   },
   "outputs": [],
   "source": [
    "# Scan `docs` directory `*.md` files for `url`  and `image` links\n",
    "# sort -u -o sort_url_list.md url_list.md\n",
    "import os\n",
    "import re\n",
    "import sys\n",
    "\n",
    "# create url file\n",
    "os.system('cat ../docs/*.md > url.txt')\n",
    "\n",
    "# regex\n",
    "link_regex = re.compile(r\"(\\[.*?\\])(\\(.*?\\))\")\n",
    "image_link_regex = re.compile(r\"(!\\[.*?\\])(\\(.*?\\))\")\n",
    "\n",
    "# output file\n",
    "dfw = open(\"url_list.md\", \"a+\")\n",
    "sys.stdout = dfw\n",
    "\n",
    "# collect url links\n",
    "with open(\"url.txt\",\"r\") as f:\n",
    "    dfr = f.read()\n",
    "    matches = re.findall(link_regex, dfr)\n",
    "    for match in matches:\n",
    "        print(f'{match[0]}{match[1]}')\n",
    "\n",
    "# collect image url links\n",
    "with open(\"url.txt\",\"r\") as f:\n",
    "    dfr = f.read()\n",
    "    matches = re.findall(image_link_regex, dfr)\n",
    "    for match in matches:\n",
    "        print(f'{match[0]}{match[1]}')\n",
    "        \n"
   ]
  },
  {
   "cell_type": "code",
   "execution_count": 10,
   "metadata": {
    "tags": [
     "Cell Test"
    ]
   },
   "outputs": [],
   "source": [
    "# Scan `docs` directory `*.md` files for `url`  and `image` links\n",
    "# sort -u -o sort_url_list.md url_list.md\n",
    "import os\n",
    "import re\n",
    "import sys\n",
    "from pathlib import Path\n",
    "\n",
    "# create url file\n",
    "os.system('cat ../docs/*.md > url.txt')\n",
    "\n",
    "# regex\n",
    "link_regex = re.compile(r\"(\\[.*?\\])(\\(.*?\\))\")\n",
    "image_link_regex = re.compile(r\"(!\\[.*?\\])(\\(.*?\\))\")\n",
    "\n",
    "# output file\n",
    "dfw = open(\"url_list.md\", \"w+\")\n",
    "sys.stdout = dfw\n",
    "\n",
    "# collect url links\n",
    "with open(\"url.txt\",\"r\") as f:\n",
    "    dfr = f.read()\n",
    "    matches = re.findall(link_regex, dfr)\n",
    "    for match in matches:\n",
    "        print(f'{match[0]}{match[1]}')\n",
    "\n",
    "# collect image url links\n",
    "with open(\"url.txt\",\"r\") as f:\n",
    "    dfr = f.read()\n",
    "    matches = re.findall(image_link_regex, dfr)\n",
    "    for match in matches:\n",
    "        print(f'{match[0]}{match[1]}')\n",
    "\n",
    "\n",
    "# sort url and image links\n",
    "# Path(\"url_list_sort.md\").touch()\n",
    "# sys.stdout =  sys.__stdout__\n",
    "# os.system( 'cat url_list.md > url_list_sort.md' )\n",
    "!cat 'cat url_list.md > url_list_sort.md'\n",
    "# os.system( 'sort -u -o sort_url_list.txt url_list_sort.md' )\n",
    "\n",
    "# with open('sort_url_list.txt', 'a') as sulf:\n",
    "#     sulf.write('Mkdocs–2 URL Links\\n')"
   ]
  },
  {
   "cell_type": "code",
   "execution_count": null,
   "metadata": {
    "tags": [
     "scan docs *.md files"
    ]
   },
   "outputs": [],
   "source": [
    "from pathlib import Path\n",
    "import sys\n",
    "import os\n",
    "import re\n",
    "\n",
    "cwd = os.getcwd()\n",
    "print(f'cwd is ', cwd)\n",
    "\n",
    "dfw = open(\"url.txt\", \"w\")\n",
    "sys.stdout = dfw\n",
    "\n",
    "for file in os.listdir('../docs'):\n",
    "    if file.endswith(\".md\"):\n",
    "        print(file)\n",
    "\n",
    "# image_link_regex = re.compile(r\"!(\\[.*?\\])(\\(.*?\\))\")\n",
    "\n",
    "# dfl = open(\"url_list.txt\", \"a\")\n",
    "# sys.stdout = dfl\n",
    "\n",
    "# with open (\"url.txt\") as file:\n",
    "#     df = file.read()\n",
    "#     matches = re.finditer(image_link_regex, df)\n",
    "#     for match in matches:\n",
    "#         print(f'match')\n",
    "\n",
    "#       print(f'{match[0]}{match[1]}')\n"
   ]
  },
  {
   "cell_type": "markdown",
   "metadata": {},
   "source": [
    "### URL_List\n",
    "Create the `links/url_list.txt` file using the `links/url.txt` file"
   ]
  },
  {
   "cell_type": "code",
   "execution_count": null,
   "metadata": {
    "tags": [
     "url_list"
    ]
   },
   "outputs": [],
   "source": [
    "import sys\n",
    "import os\n",
    "import re\n",
    "\n",
    "image_link_regex = re.compile(r\"!(\\[.*?\\])(\\(.*?\\))\")\n",
    "\n",
    "dfl = open(\"url_list.txt\", \"w\")\n",
    "sys.stdout = dfl\n",
    "\n",
    "# url_line = open(\"url.txt\")\n",
    "\n",
    "\n",
    "with open (\"url.txt\") as file:\n",
    "    df = file.read()\n",
    "    matches = re.finditer(image_link_regex, df)\n",
    "    for match in matches:\n",
    "        print(f'{match[0]}')\n"
   ]
  },
  {
   "cell_type": "code",
   "execution_count": null,
   "metadata": {
    "tags": [
     "append image urls -> url_list.txt"
    ]
   },
   "outputs": [],
   "source": [
    "# append image urls -> url_list.txt\n",
    "\n",
    "from pathlib import Path\n",
    "import os\n",
    "import re\n",
    "\n",
    "image_link_regex = re.compile(r\"!(\\[.*?\\])(\\(.*?\\))\")\n",
    "\n",
    "dfw = open(\"url_list.txt\", \"w\")\n",
    "sys.stdout = dfw\n",
    "\n",
    "url = open(\"url.txt\", 'r')\n",
    "\n",
    "with open (\"url.txt\") as file:\n",
    "    df = file.read()\n",
    "    matches = re.finditer(image_link_regex, df)\n",
    "    for match in matches:\n",
    "        print(f'{match[0]}{match[1]}')\n"
   ]
  },
  {
   "cell_type": "code",
   "execution_count": null,
   "metadata": {},
   "outputs": [],
   "source": [
    "# Create the links/url_list.txt file using the links/url.txt file\n",
    "\n",
    "from pathlib import Path\n",
    "import sys\n",
    "import os\n",
    "import re\n",
    "\n",
    "original_stdout = sys.stdout\n",
    "\n",
    "# print(\"\\npyrng.ipynb links\\n\")\n",
    "\n",
    "link_regex = re.compile(r\"(\\[.*?\\])(\\(.*?\\))\")\n",
    "\n",
    "dfw = open(\"url_list.txt\", \"w\")\n",
    "sys.stdout = dfw\n",
    "\n",
    "with open (\"url.txt\") as file:\n",
    "    dfr = file.read()\n",
    "    print(dfr)\n",
    "    matches = re.findall(link_regex, dfr)\n",
    "    for match in matches:\n",
    "        print(f'{match[0]}{match[1]}')\n"
   ]
  },
  {
   "cell_type": "markdown",
   "metadata": {
    "tags": [
     "Cell Test"
    ]
   },
   "source": [
    "### Cell Test"
   ]
  },
  {
   "cell_type": "code",
   "execution_count": null,
   "metadata": {},
   "outputs": [],
   "source": [
    "dir(list)"
   ]
  },
  {
   "cell_type": "markdown",
   "metadata": {},
   "source": [
    "### Bash Test Cell"
   ]
  },
  {
   "cell_type": "code",
   "execution_count": null,
   "metadata": {
    "tags": [
     "bash testing"
    ]
   },
   "outputs": [],
   "source": [
    "%%bash\n",
    "# Bash Testing\n",
    "\n",
    "pwd\n",
    "# cat \"url.txt\"\n",
    "cat ../docs/*'md' > url.txt\n",
    "# touch ../links/vvv\n",
    "# rg  '!|\\[(.*?)\\]\\((.*?)\\)' *.md  | cat> ../links/vvv\n",
    "\n",
    "# cd ../links\n",
    "\n",
    "# grep '\\!|\\[.*\\]\\(.*\\) { print {1} }' zzz\n",
    "\n"
   ]
  },
  {
   "cell_type": "code",
   "execution_count": null,
   "metadata": {},
   "outputs": [],
   "source": []
  }
 ],
 "metadata": {
  "kernelspec": {
   "display_name": "Python 3.10.7 64-bit",
   "language": "python",
   "name": "python3"
  },
  "language_info": {
   "codemirror_mode": {
    "name": "ipython",
    "version": 3
   },
   "file_extension": ".py",
   "mimetype": "text/x-python",
   "name": "python",
   "nbconvert_exporter": "python",
   "pygments_lexer": "ipython3",
   "version": "3.10.7 (v3.10.7:6cc6b13308, Sep  5 2022, 14:02:52) [Clang 13.0.0 (clang-1300.0.29.30)]"
  },
  "orig_nbformat": 4,
  "vscode": {
   "interpreter": {
    "hash": "949777d72b0d2535278d3dc13498b2535136f6dfe0678499012e853ee9abcab1"
   }
  }
 },
 "nbformat": 4,
 "nbformat_minor": 2
}
