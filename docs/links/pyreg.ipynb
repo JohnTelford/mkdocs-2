{
 "cells": [
  {
   "cell_type": "markdown",
   "metadata": {},
   "source": [
    "# Instructions\n",
    "\n",
    "- [VScode](https://code.visualstudio.com/) is the command and control center used to build this website\n",
    "\n",
    "- [VScode Jupyter Extension](pypi.org/project/jupyterlab) are used to create a [Python](https://www.python.org/) Notebook development environment\n",
    "  \n",
    "- [MkDocs Material](https://squidfunk.github.io/mkdocs-material/) is used to build and maintain this [Static Website](https://www.cloudflare.com/learning/performance/static-site-generator/) \n",
    "\n",
    "- [Cloudflare](https://www.cloudflare.com) is uses to deploy this website\n",
    "\n",
    "- VScode Shell\n",
    "  \n",
    "        ```markdown\n",
    "\n",
    "        # Use VScode shell\n",
    "        # Crete a md files for links\n",
    "        #       url.txt file\n",
    "        cd docs\n",
    "        rg '(\\[.*\\]\\(.*\\))' *.md | grep -o \"\\[.*\\]\\(.*\\)\" '{ print $1 }' | cat url.txt\n",
    "        \n",
    "        ```\n",
    "```"
   ]
  },
  {
   "cell_type": "code",
   "execution_count": 3,
   "metadata": {},
   "outputs": [],
   "source": [
    "# pyrng.ipynb links\n",
    "\n",
    "\n",
    "from pathlib import Path\n",
    "import sys\n",
    "import os\n",
    "import re\n",
    "\n",
    "link_regex = re.compile(r\"(\\[.*?\\])(\\(.*?\\))\")\n",
    "\n",
    "dfw = open(\"url_list.txt\", \"w\")\n",
    "sys.stdout = dfw\n",
    "\n",
    "with open (\"url.txt\") as file:\n",
    "    dfr = file.read()\n",
    "    matches = re.findall(link_regex, dfr)\n",
    "    for match in matches:\n",
    "        print(f'{match[0]}{match[1]}')\n"
   ]
  },
  {
   "cell_type": "code",
   "execution_count": 1,
   "metadata": {},
   "outputs": [],
   "source": [
    "from pathlib import Path\n",
    "import sys\n",
    "import os\n",
    "import re\n",
    "\n",
    "original_stdout = sys.stdout\n",
    "\n",
    "# print(\"\\npyrng.ipynb links\\n\")\n",
    "\n",
    "link_regex = re.compile(r\"(\\[.*?\\])(\\(.*?\\))\")\n",
    "\n",
    "dfw = open(\"url_list.txt\", \"w\")\n",
    "sys.stdout = dfw\n",
    "\n",
    "with open (\"url.txt\") as file:\n",
    "    dfr = file.read()\n",
    "    matches = re.findall(link_regex, dfr)\n",
    "    for match in matches:\n",
    "        print(f'{match[0]}{match[1]}')\n"
   ]
  },
  {
   "cell_type": "code",
   "execution_count": 35,
   "metadata": {},
   "outputs": [],
   "source": [
    "# pyrng.ipynb images\n",
    "\n",
    "from pathlib import Path\n",
    "import os\n",
    "import re\n",
    "\n",
    "image_link_regex = re.compile(r\"!(\\[.*?\\])(\\(.*?\\))\")\n",
    "\n",
    "dfw = open(\"url_list.txt\", \"a\")\n",
    "\n",
    "with open (\"url.txt\") as file:\n",
    "    df = file.read()\n",
    "    matches = re.finditer(image_link_regex, df)\n",
    "    for match in matches:\n",
    "        print(f'{match[0]}{match[1]}')\n"
   ]
  },
  {
   "cell_type": "code",
   "execution_count": 36,
   "metadata": {},
   "outputs": [],
   "source": [
    "%%bash\n",
    "# sort stuff\n",
    "\n",
    "# sort -d -u -o sort_url_list url_list.txt\n",
    "\n",
    "# uniq -u url_list.txt sort_url_list"
   ]
  }
 ],
 "metadata": {
  "kernelspec": {
   "display_name": "Python 3.10.7 64-bit",
   "language": "python",
   "name": "python3"
  },
  "language_info": {
   "codemirror_mode": {
    "name": "ipython",
    "version": 3
   },
   "file_extension": ".py",
   "mimetype": "text/x-python",
   "name": "python",
   "nbconvert_exporter": "python",
   "pygments_lexer": "ipython3",
   "version": "3.10.7"
  },
  "orig_nbformat": 4,
  "vscode": {
   "interpreter": {
    "hash": "949777d72b0d2535278d3dc13498b2535136f6dfe0678499012e853ee9abcab1"
   }
  }
 },
 "nbformat": 4,
 "nbformat_minor": 2
}
